{
 "cells": [
  {
   "cell_type": "code",
   "execution_count": null,
   "id": "e99023fe-23c5-4134-a862-30cee7ffdc15",
   "metadata": {},
   "outputs": [],
   "source": [
    "#Q1. What is a database? Differentiate between SQL and NoSQL databases.\n"
   ]
  },
  {
   "cell_type": "code",
   "execution_count": null,
   "id": "14478d48-3320-40dd-bac5-5fe9f3734b07",
   "metadata": {},
   "outputs": [],
   "source": [
    "A database is a structured collection of data. It is an organized way to store, manage, and retrieve information, usually managed by a Database Management System (DBMS).\n",
    "\n",
    "SQL vs NoSQL Databases:\n",
    "\n",
    "SQL Databases:\n",
    "\n",
    "Structured Query Language (SQL): SQL databases use a structured query language for defining and manipulating data.\n",
    "Schema: They are schema-based, meaning the structure of the data is defined in advance.\n",
    "Relational: Most SQL databases are relational (RDBMS), where data is stored in tables and relations are established using keys.\n",
    "Examples: MySQL, PostgreSQL, Oracle, SQL Server.\n",
    "NoSQL Databases:\n",
    "\n",
    "Non-relational: NoSQL databases are non-relational or distributed.\n",
    "Schema-less: They can store unstructured or semi-structured data and do not require a predefined schema.\n",
    "Scalability: Generally offer more scalability and flexibility than traditional SQL databases.\n",
    "Types: Include document (e.g., MongoDB), key-value (e.g., Redis), wide-column (e.g., Cassandra), and graph databases (e.g., Neo4j).\n"
   ]
  },
  {
   "cell_type": "code",
   "execution_count": null,
   "id": "d1ae170c-3d48-4703-ace9-b02b2bfbfad0",
   "metadata": {},
   "outputs": [],
   "source": [
    "#Q2. What is DDL? Explain why CREATE, DROP, ALTER, and TRUNCATE are used with an example.\n"
   ]
  },
  {
   "cell_type": "code",
   "execution_count": null,
   "id": "e3d088b1-6565-4ef3-af23-556d09dcbe14",
   "metadata": {},
   "outputs": [],
   "source": [
    "DDL stands for Data Definition Language. It is used to define and modify the database structure or schema.\n",
    "\n",
    "CREATE: Used to create a new table or database.\n",
    "Example: CREATE TABLE students (id INT, name VARCHAR(50));\n",
    "DROP: Used to delete a table or database.\n",
    "Example: DROP TABLE students;\n",
    "ALTER: Used to modify an existing table (like adding, deleting, or modifying columns).\n",
    "Example: ALTER TABLE students ADD COLUMN age INT;\n",
    "TRUNCATE: Used to delete all data from a table without deleting the table itself.\n",
    "Example: TRUNCATE TABLE students;\n"
   ]
  },
  {
   "cell_type": "code",
   "execution_count": null,
   "id": "7af66e62-37c0-43aa-9de8-ecb973ecd869",
   "metadata": {},
   "outputs": [],
   "source": [
    "#Q3. What is DML? Explain INSERT, UPDATE, and DELETE with an example.\n"
   ]
  },
  {
   "cell_type": "code",
   "execution_count": null,
   "id": "4e5d9969-b8af-4dd5-adab-b457d522d9ff",
   "metadata": {},
   "outputs": [],
   "source": [
    "DML stands for Data Manipulation Language. It is used for adding (inserting), deleting, and modifying (updating) data in a database.\n",
    "\n",
    "INSERT: Used to insert data into a table.\n",
    "Example: INSERT INTO students (id, name, age) VALUES (1, 'John', 20);\n",
    "UPDATE: Used to modify existing data.\n",
    "Example: UPDATE students SET age = 21 WHERE id = 1;\n",
    "DELETE: Used to delete data from a table.\n",
    "Example: DELETE FROM students WHERE id = 1;"
   ]
  },
  {
   "cell_type": "code",
   "execution_count": null,
   "id": "1b3f975f-a909-4ef6-a270-ee47a023b644",
   "metadata": {},
   "outputs": [],
   "source": [
    "#Q4. What is DQL? Explain SELECT with an example."
   ]
  },
  {
   "cell_type": "code",
   "execution_count": null,
   "id": "29bad155-8701-4d33-a1fd-a54c3181ab9b",
   "metadata": {},
   "outputs": [],
   "source": [
    "DQL stands for Data Query Language. It is used to query the database and retrieve data from it.\n",
    "\n",
    "SELECT: Used to select data from a database. Data returned is stored in a result table, known as the result-set.\n",
    "Example: SELECT * FROM students; (This would retrieve all data from the 'students' table.)"
   ]
  },
  {
   "cell_type": "code",
   "execution_count": null,
   "id": "24380772-673f-41e9-833e-15685f41f73d",
   "metadata": {},
   "outputs": [],
   "source": [
    "#Q5. Explain Primary Key and Foreign Key.\n"
   ]
  },
  {
   "cell_type": "code",
   "execution_count": null,
   "id": "505f0c48-1ad4-40c4-8715-b4ce618a3102",
   "metadata": {},
   "outputs": [],
   "source": [
    "Primary Key: A column or a set of columns that uniquely identifies each row in a table. Each table can have only one primary key, and no two rows can have the same primary key value.\n",
    "Foreign Key: A column or set of columns in one table that refers to the primary key in another table. The foreign key establishes a link between the data in two tables."
   ]
  },
  {
   "cell_type": "code",
   "execution_count": null,
   "id": "07614fd7-1c0c-4e82-949e-f1148a5e2a8a",
   "metadata": {},
   "outputs": [],
   "source": [
    "#Q6. Write a python code to connect MySQL to Python. Explain the cursor() and execute() method"
   ]
  },
  {
   "cell_type": "code",
   "execution_count": null,
   "id": "d64f7ed8-43b2-421b-af5c-11a7af00792c",
   "metadata": {},
   "outputs": [],
   "source": [
    "To connect MySQL to Python, you typically use a library like mysql-connector-python. Here's a basic example:\n",
    "\n"
   ]
  },
  {
   "cell_type": "code",
   "execution_count": null,
   "id": "223e1ab6-6696-42a5-a033-9c15a0a26f9a",
   "metadata": {},
   "outputs": [],
   "source": [
    "import mysql.connector\n",
    "\n",
    "# Establishing a connection to the database\n",
    "connection = mysql.connector.connect(host='hostname', database='dbname', user='username', password='password')\n",
    "\n",
    "# Creating a cursor object using the cursor() method\n",
    "cursor = connection.cursor()\n",
    "\n",
    "# Executing an SQL statement using execute() method\n",
    "cursor.execute(\"SELECT * FROM students\")\n",
    "\n",
    "# Fetching the result\n",
    "records = cursor.fetchall()\n",
    "\n",
    "for record in records:\n",
    "    print(record)\n",
    "\n",
    "# Closing the cursor and connection\n",
    "cursor.close()\n",
    "connection.close()\n"
   ]
  },
  {
   "cell_type": "code",
   "execution_count": null,
   "id": "6f5c3b7f-84f7-4554-8aff-24b230b71ff6",
   "metadata": {},
   "outputs": [],
   "source": [
    "ursor() Method: This method creates a cursor object, which allows you to execute SQL queries on a database.\n",
    "execute() Method: This method is used to execute SQL queries."
   ]
  },
  {
   "cell_type": "code",
   "execution_count": null,
   "id": "09356496-4ba8-49c3-9e40-579993da73fd",
   "metadata": {},
   "outputs": [],
   "source": [
    "#Q7. Give the order of execution of SQL clauses in an SQL query."
   ]
  },
  {
   "cell_type": "code",
   "execution_count": null,
   "id": "1c9ce7a0-17b6-451d-8859-b27246268a36",
   "metadata": {},
   "outputs": [],
   "source": [
    "The order of execution of SQL clauses is:\n",
    "\n",
    "1.FROM and JOINs: The query begins by identifying the base table(s) and joining any additional tables, if specified. This step determines the total working dataset for the query.\n",
    "2.WHERE: Filters are applied to the rows from the base table(s). Rows that don't meet the condition are eliminated from further processing.\n",
    "\n",
    "3.GROUP BY: The remaining rows are then grouped based on the specified column(s). This is necessary for aggregate functions like COUNT, AVG, SUM, etc.\n",
    "\n",
    "4.HAVING: This clause is used to filter groups created by the GROUP BY clause. It's similar to WHERE but operates on grouped records.\n",
    "\n",
    "5.SELECT: The specified columns are selected from the rows that have made it through the previous steps. This is where calculations and transformations (like concatenation, mathematical operations, etc.) specified in the SELECT clause are applied.\n",
    "\n",
    "6.DISTINCT: If specified, duplicate rows are removed after the SELECT operation.\n",
    "\n",
    "7.ORDER BY: The resulting set is then ordered based on the specified column(s). This is one of the last steps, which often surprises people who assume it happens earlier.\n",
    "\n",
    "8.LIMIT / OFFSET: Finally, based on these clauses, a subset of the result set is returned – LIMIT specifies how many rows to return, and OFFSET specifies where to start returning rows from."
   ]
  }
 ],
 "metadata": {
  "kernelspec": {
   "display_name": "Python 3 (ipykernel)",
   "language": "python",
   "name": "python3"
  },
  "language_info": {
   "codemirror_mode": {
    "name": "ipython",
    "version": 3
   },
   "file_extension": ".py",
   "mimetype": "text/x-python",
   "name": "python",
   "nbconvert_exporter": "python",
   "pygments_lexer": "ipython3",
   "version": "3.10.8"
  }
 },
 "nbformat": 4,
 "nbformat_minor": 5
}
